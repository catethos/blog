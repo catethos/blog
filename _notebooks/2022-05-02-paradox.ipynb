{
 "cells": [
  {
   "cell_type": "markdown",
   "metadata": {},
   "source": [
    "# \"The Two Children Problem\"\n",
    "> \"How to solve it using code\"\n",
    "\n",
    "- toc:false\n",
    "- branch: master\n",
    "- badges: false\n",
    "- comments: true\n",
    "- author: Caleb\n",
    "- categories: [probability]"
   ]
  },
  {
   "cell_type": "markdown",
   "metadata": {},
   "source": [
    "# Problem\n",
    "\n",
    "- Mr. Jones has two children. The older child is a girl. What is the probability that both children are girls?\n",
    "- Mr. Smith has two children. At least one of them is a boy. What is the probability that both children are boys?\n"
   ]
  },
  {
   "cell_type": "markdown",
   "metadata": {},
   "source": [
    "# Using Python to Represent Probability"
   ]
  },
  {
   "cell_type": "code",
   "execution_count": 3,
   "metadata": {},
   "outputs": [],
   "source": [
    "class Event:\n",
    "    def __init__(self, pred, condition=None):\n",
    "        self.pred = pred\n",
    "        self.condition = condition\n",
    "        \n",
    "    def __or__(self, pred):\n",
    "        return Event(self.pred, pred.pred)"
   ]
  },
  {
   "cell_type": "code",
   "execution_count": 4,
   "metadata": {},
   "outputs": [],
   "source": [
    "class Probability:\n",
    "    def __init__(self, sample_space):\n",
    "        self.sample_space = sample_space\n",
    "        \n",
    "    def __call__(self, event):\n",
    "        if event.condition:\n",
    "            num = len({x for x in self.sample_space if event.pred(x) and event.condition(x)})\n",
    "            den = len({x for x in self.sample_space if event.condition(x)})\n",
    "            return num / den\n",
    "        else:\n",
    "            num = len({x for x in self.sample_space if event.pred(x)})\n",
    "            den = len(self.sample_space)\n",
    "            return num/den\n"
   ]
  },
  {
   "cell_type": "markdown",
   "metadata": {},
   "source": [
    "# Examples \n",
    "\n",
    "Before solving the two children problem, let's see of our code can solve the dice problem that we encounter in every introuction to probability course.\n",
    "\n",
    "## Example 1\n",
    "Rolling a fair dice with 6 faces, what is the probability of getting a even number ?"
   ]
  },
  {
   "cell_type": "code",
   "execution_count": 6,
   "metadata": {},
   "outputs": [
    {
     "data": {
      "text/plain": [
       "0.5"
      ]
     },
     "execution_count": 6,
     "metadata": {},
     "output_type": "execute_result"
    }
   ],
   "source": [
    "# let's setup the sample space with 6 outcomes\n",
    "sample_space = {1,2,3,4,5,6}\n",
    "p = Probability(sample_space)\n",
    "\n",
    "# define the event of getting an even number\n",
    "is_even = Event(lambda x : x%2 == 0)\n",
    "\n",
    "# the probability of getting even number\n",
    "p(is_even)"
   ]
  },
  {
   "cell_type": "markdown",
   "metadata": {},
   "source": [
    "## Example 2\n",
    "\n",
    "(We can also look at conditional probability) What is the probability of getting an even number given the result is greater than 3"
   ]
  },
  {
   "cell_type": "code",
   "execution_count": 7,
   "metadata": {},
   "outputs": [
    {
     "data": {
      "text/plain": [
       "0.6666666666666666"
      ]
     },
     "execution_count": 7,
     "metadata": {},
     "output_type": "execute_result"
    }
   ],
   "source": [
    "greater_3 = Event(lambda x : x>3)\n",
    "p(is_even | greater_3)"
   ]
  },
  {
   "cell_type": "markdown",
   "metadata": {},
   "source": [
    "# Solving the real problem\n",
    "\n",
    "Let's denote the gender by either the letter 'G'(girl) or 'B'(boy), and hence 'GB' means the elder child is a girl and the younger is a boy."
   ]
  },
  {
   "cell_type": "code",
   "execution_count": 9,
   "metadata": {},
   "outputs": [],
   "source": [
    "sample_space = {\"GG\",\"GB\",\"BG\",\"BB\"}\n",
    "p = Probability(sample_space)"
   ]
  },
  {
   "cell_type": "code",
   "execution_count": 10,
   "metadata": {},
   "outputs": [],
   "source": [
    "older_is_boy = Event(lambda x: x[0] == \"B\")\n",
    "at_least_one_boy = Event(lambda x: \"B\" in x)\n",
    "both_boy = Event(lambda x: x.count(\"B\") == 2)"
   ]
  },
  {
   "cell_type": "code",
   "execution_count": 11,
   "metadata": {},
   "outputs": [
    {
     "data": {
      "text/plain": [
       "0.5"
      ]
     },
     "execution_count": 11,
     "metadata": {},
     "output_type": "execute_result"
    }
   ],
   "source": [
    "p(both_boy | older_is_boy)"
   ]
  },
  {
   "cell_type": "code",
   "execution_count": 12,
   "metadata": {},
   "outputs": [
    {
     "data": {
      "text/plain": [
       "0.3333333333333333"
      ]
     },
     "execution_count": 12,
     "metadata": {},
     "output_type": "execute_result"
    }
   ],
   "source": [
    "p(both_boy | at_least_one_boy)"
   ]
  }
 ],
 "metadata": {
  "interpreter": {
   "hash": "e7370f93d1d0cde622a1f8e1c04877d8463912d04d973331ad4851f04de6915a"
  },
  "kernelspec": {
   "display_name": "Python 3.10.4 64-bit",
   "language": "python",
   "name": "python3"
  },
  "language_info": {
   "codemirror_mode": {
    "name": "ipython",
    "version": 3
   },
   "file_extension": ".py",
   "mimetype": "text/x-python",
   "name": "python",
   "nbconvert_exporter": "python",
   "pygments_lexer": "ipython3",
   "version": "3.10.4"
  },
  "orig_nbformat": 4
 },
 "nbformat": 4,
 "nbformat_minor": 2
}
